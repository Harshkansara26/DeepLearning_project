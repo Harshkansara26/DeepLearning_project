{
  "nbformat": 4,
  "nbformat_minor": 0,
  "metadata": {
    "colab": {
      "name": "FinalProject.ipynb",
      "provenance": [],
      "collapsed_sections": [],
      "machine_shape": "hm"
    },
    "kernelspec": {
      "name": "python3",
      "display_name": "Python 3"
    },
    "language_info": {
      "name": "python"
    },
    "accelerator": "GPU"
  },
  "cells": [
    {
      "cell_type": "markdown",
      "source": [
        "### Google Mount"
      ],
      "metadata": {
        "id": "6ZmZu6YAL5u3"
      }
    },
    {
      "cell_type": "code",
      "source": [
        "!rm -r sample_data\n",
        "\n",
        "from google.colab import drive\n",
        "drive.mount('/content/drive')"
      ],
      "metadata": {
        "colab": {
          "base_uri": "https://localhost:8080/"
        },
        "id": "yaMwPgg1Jo2p",
        "outputId": "bd5f8884-8aab-4f90-b666-756a8dc3ee4b"
      },
      "execution_count": null,
      "outputs": [
        {
          "output_type": "stream",
          "name": "stdout",
          "text": [
            "rm: cannot remove 'sample_data': No such file or directory\n",
            "Drive already mounted at /content/drive; to attempt to forcibly remount, call drive.mount(\"/content/drive\", force_remount=True).\n"
          ]
        }
      ]
    },
    {
      "cell_type": "markdown",
      "source": [
        "### Import libraries, models"
      ],
      "metadata": {
        "id": "jvJFf5y1MPi0"
      }
    },
    {
      "cell_type": "code",
      "execution_count": null,
      "metadata": {
        "id": "y_-Sk_Ck0COe",
        "colab": {
          "base_uri": "https://localhost:8080/"
        },
        "outputId": "4801714d-bfaf-4cb7-c93b-3111d1c7e2f6"
      },
      "outputs": [
        {
          "output_type": "stream",
          "name": "stdout",
          "text": [
            "Requirement already satisfied: tensorflow_text in /usr/local/lib/python3.7/dist-packages (2.8.1)\n",
            "Requirement already satisfied: tensorflow-hub>=0.8.0 in /usr/local/lib/python3.7/dist-packages (from tensorflow_text) (0.12.0)\n",
            "Requirement already satisfied: tensorflow<2.9,>=2.8.0 in /usr/local/lib/python3.7/dist-packages (from tensorflow_text) (2.8.0)\n",
            "Requirement already satisfied: h5py>=2.9.0 in /usr/local/lib/python3.7/dist-packages (from tensorflow<2.9,>=2.8.0->tensorflow_text) (3.1.0)\n",
            "Requirement already satisfied: flatbuffers>=1.12 in /usr/local/lib/python3.7/dist-packages (from tensorflow<2.9,>=2.8.0->tensorflow_text) (2.0)\n",
            "Requirement already satisfied: termcolor>=1.1.0 in /usr/local/lib/python3.7/dist-packages (from tensorflow<2.9,>=2.8.0->tensorflow_text) (1.1.0)\n",
            "Requirement already satisfied: wrapt>=1.11.0 in /usr/local/lib/python3.7/dist-packages (from tensorflow<2.9,>=2.8.0->tensorflow_text) (1.14.0)\n",
            "Requirement already satisfied: tensorflow-io-gcs-filesystem>=0.23.1 in /usr/local/lib/python3.7/dist-packages (from tensorflow<2.9,>=2.8.0->tensorflow_text) (0.24.0)\n",
            "Requirement already satisfied: keras-preprocessing>=1.1.1 in /usr/local/lib/python3.7/dist-packages (from tensorflow<2.9,>=2.8.0->tensorflow_text) (1.1.2)\n",
            "Requirement already satisfied: libclang>=9.0.1 in /usr/local/lib/python3.7/dist-packages (from tensorflow<2.9,>=2.8.0->tensorflow_text) (13.0.0)\n",
            "Requirement already satisfied: protobuf>=3.9.2 in /usr/local/lib/python3.7/dist-packages (from tensorflow<2.9,>=2.8.0->tensorflow_text) (3.17.3)\n",
            "Requirement already satisfied: setuptools in /usr/local/lib/python3.7/dist-packages (from tensorflow<2.9,>=2.8.0->tensorflow_text) (57.4.0)\n",
            "Requirement already satisfied: typing-extensions>=3.6.6 in /usr/local/lib/python3.7/dist-packages (from tensorflow<2.9,>=2.8.0->tensorflow_text) (4.1.1)\n",
            "Requirement already satisfied: tf-estimator-nightly==2.8.0.dev2021122109 in /usr/local/lib/python3.7/dist-packages (from tensorflow<2.9,>=2.8.0->tensorflow_text) (2.8.0.dev2021122109)\n",
            "Requirement already satisfied: keras<2.9,>=2.8.0rc0 in /usr/local/lib/python3.7/dist-packages (from tensorflow<2.9,>=2.8.0->tensorflow_text) (2.8.0)\n",
            "Requirement already satisfied: google-pasta>=0.1.1 in /usr/local/lib/python3.7/dist-packages (from tensorflow<2.9,>=2.8.0->tensorflow_text) (0.2.0)\n",
            "Requirement already satisfied: numpy>=1.20 in /usr/local/lib/python3.7/dist-packages (from tensorflow<2.9,>=2.8.0->tensorflow_text) (1.21.5)\n",
            "Requirement already satisfied: tensorboard<2.9,>=2.8 in /usr/local/lib/python3.7/dist-packages (from tensorflow<2.9,>=2.8.0->tensorflow_text) (2.8.0)\n",
            "Requirement already satisfied: six>=1.12.0 in /usr/local/lib/python3.7/dist-packages (from tensorflow<2.9,>=2.8.0->tensorflow_text) (1.15.0)\n",
            "Requirement already satisfied: astunparse>=1.6.0 in /usr/local/lib/python3.7/dist-packages (from tensorflow<2.9,>=2.8.0->tensorflow_text) (1.6.3)\n",
            "Requirement already satisfied: gast>=0.2.1 in /usr/local/lib/python3.7/dist-packages (from tensorflow<2.9,>=2.8.0->tensorflow_text) (0.5.3)\n",
            "Requirement already satisfied: opt-einsum>=2.3.2 in /usr/local/lib/python3.7/dist-packages (from tensorflow<2.9,>=2.8.0->tensorflow_text) (3.3.0)\n",
            "Requirement already satisfied: absl-py>=0.4.0 in /usr/local/lib/python3.7/dist-packages (from tensorflow<2.9,>=2.8.0->tensorflow_text) (1.0.0)\n",
            "Requirement already satisfied: grpcio<2.0,>=1.24.3 in /usr/local/lib/python3.7/dist-packages (from tensorflow<2.9,>=2.8.0->tensorflow_text) (1.44.0)\n",
            "Requirement already satisfied: wheel<1.0,>=0.23.0 in /usr/local/lib/python3.7/dist-packages (from astunparse>=1.6.0->tensorflow<2.9,>=2.8.0->tensorflow_text) (0.37.1)\n",
            "Requirement already satisfied: cached-property in /usr/local/lib/python3.7/dist-packages (from h5py>=2.9.0->tensorflow<2.9,>=2.8.0->tensorflow_text) (1.5.2)\n",
            "Requirement already satisfied: google-auth-oauthlib<0.5,>=0.4.1 in /usr/local/lib/python3.7/dist-packages (from tensorboard<2.9,>=2.8->tensorflow<2.9,>=2.8.0->tensorflow_text) (0.4.6)\n",
            "Requirement already satisfied: werkzeug>=0.11.15 in /usr/local/lib/python3.7/dist-packages (from tensorboard<2.9,>=2.8->tensorflow<2.9,>=2.8.0->tensorflow_text) (1.0.1)\n",
            "Requirement already satisfied: requests<3,>=2.21.0 in /usr/local/lib/python3.7/dist-packages (from tensorboard<2.9,>=2.8->tensorflow<2.9,>=2.8.0->tensorflow_text) (2.23.0)\n",
            "Requirement already satisfied: tensorboard-data-server<0.7.0,>=0.6.0 in /usr/local/lib/python3.7/dist-packages (from tensorboard<2.9,>=2.8->tensorflow<2.9,>=2.8.0->tensorflow_text) (0.6.1)\n",
            "Requirement already satisfied: markdown>=2.6.8 in /usr/local/lib/python3.7/dist-packages (from tensorboard<2.9,>=2.8->tensorflow<2.9,>=2.8.0->tensorflow_text) (3.3.6)\n",
            "Requirement already satisfied: google-auth<3,>=1.6.3 in /usr/local/lib/python3.7/dist-packages (from tensorboard<2.9,>=2.8->tensorflow<2.9,>=2.8.0->tensorflow_text) (1.35.0)\n",
            "Requirement already satisfied: tensorboard-plugin-wit>=1.6.0 in /usr/local/lib/python3.7/dist-packages (from tensorboard<2.9,>=2.8->tensorflow<2.9,>=2.8.0->tensorflow_text) (1.8.1)\n",
            "Requirement already satisfied: cachetools<5.0,>=2.0.0 in /usr/local/lib/python3.7/dist-packages (from google-auth<3,>=1.6.3->tensorboard<2.9,>=2.8->tensorflow<2.9,>=2.8.0->tensorflow_text) (4.2.4)\n",
            "Requirement already satisfied: rsa<5,>=3.1.4 in /usr/local/lib/python3.7/dist-packages (from google-auth<3,>=1.6.3->tensorboard<2.9,>=2.8->tensorflow<2.9,>=2.8.0->tensorflow_text) (4.8)\n",
            "Requirement already satisfied: pyasn1-modules>=0.2.1 in /usr/local/lib/python3.7/dist-packages (from google-auth<3,>=1.6.3->tensorboard<2.9,>=2.8->tensorflow<2.9,>=2.8.0->tensorflow_text) (0.2.8)\n",
            "Requirement already satisfied: requests-oauthlib>=0.7.0 in /usr/local/lib/python3.7/dist-packages (from google-auth-oauthlib<0.5,>=0.4.1->tensorboard<2.9,>=2.8->tensorflow<2.9,>=2.8.0->tensorflow_text) (1.3.1)\n",
            "Requirement already satisfied: importlib-metadata>=4.4 in /usr/local/lib/python3.7/dist-packages (from markdown>=2.6.8->tensorboard<2.9,>=2.8->tensorflow<2.9,>=2.8.0->tensorflow_text) (4.11.3)\n",
            "Requirement already satisfied: zipp>=0.5 in /usr/local/lib/python3.7/dist-packages (from importlib-metadata>=4.4->markdown>=2.6.8->tensorboard<2.9,>=2.8->tensorflow<2.9,>=2.8.0->tensorflow_text) (3.8.0)\n",
            "Requirement already satisfied: pyasn1<0.5.0,>=0.4.6 in /usr/local/lib/python3.7/dist-packages (from pyasn1-modules>=0.2.1->google-auth<3,>=1.6.3->tensorboard<2.9,>=2.8->tensorflow<2.9,>=2.8.0->tensorflow_text) (0.4.8)\n",
            "Requirement already satisfied: urllib3!=1.25.0,!=1.25.1,<1.26,>=1.21.1 in /usr/local/lib/python3.7/dist-packages (from requests<3,>=2.21.0->tensorboard<2.9,>=2.8->tensorflow<2.9,>=2.8.0->tensorflow_text) (1.24.3)\n",
            "Requirement already satisfied: idna<3,>=2.5 in /usr/local/lib/python3.7/dist-packages (from requests<3,>=2.21.0->tensorboard<2.9,>=2.8->tensorflow<2.9,>=2.8.0->tensorflow_text) (2.10)\n",
            "Requirement already satisfied: chardet<4,>=3.0.2 in /usr/local/lib/python3.7/dist-packages (from requests<3,>=2.21.0->tensorboard<2.9,>=2.8->tensorflow<2.9,>=2.8.0->tensorflow_text) (3.0.4)\n",
            "Requirement already satisfied: certifi>=2017.4.17 in /usr/local/lib/python3.7/dist-packages (from requests<3,>=2.21.0->tensorboard<2.9,>=2.8->tensorflow<2.9,>=2.8.0->tensorflow_text) (2021.10.8)\n",
            "Requirement already satisfied: oauthlib>=3.0.0 in /usr/local/lib/python3.7/dist-packages (from requests-oauthlib>=0.7.0->google-auth-oauthlib<0.5,>=0.4.1->tensorboard<2.9,>=2.8->tensorflow<2.9,>=2.8.0->tensorflow_text) (3.2.0)\n"
          ]
        }
      ],
      "source": [
        "!pip install tensorflow_text\n",
        "\n",
        "import gensim.downloader\n",
        "import re\n",
        "import pandas as pd\n",
        "import os\n",
        "import numpy as np\n",
        "\n",
        "import tensorflow as tf\n",
        "from tensorflow.keras import layers\n",
        "from tensorflow.keras.models import Sequential\n",
        "from tensorflow.keras.preprocessing.text import Tokenizer\n",
        "from tensorflow.keras.preprocessing import sequence\n",
        "from keras.initializers import Constant\n",
        "import tensorflow_hub as hub\n",
        "import tensorflow_text as text\n",
        "\n",
        "from sklearn.model_selection import train_test_split\n",
        "import matplotlib.pyplot as plt\n",
        "from tqdm import tqdm"
      ]
    },
    {
      "cell_type": "code",
      "source": [
        "import nltk\n",
        "nltk.download('punkt')\n",
        "nltk.download('wordnet')\n",
        "nltk.download('stopwords')\n",
        "from nltk.stem import WordNetLemmatizer\n",
        "from nltk.corpus import stopwords \n",
        "from nltk.tokenize import word_tokenize"
      ],
      "metadata": {
        "colab": {
          "base_uri": "https://localhost:8080/"
        },
        "id": "mi5JYJ5Ee7-F",
        "outputId": "8dd88760-a508-454e-bfac-7dc55a732357"
      },
      "execution_count": null,
      "outputs": [
        {
          "output_type": "stream",
          "name": "stdout",
          "text": [
            "[nltk_data] Downloading package punkt to /root/nltk_data...\n",
            "[nltk_data]   Package punkt is already up-to-date!\n",
            "[nltk_data] Downloading package wordnet to /root/nltk_data...\n",
            "[nltk_data]   Package wordnet is already up-to-date!\n",
            "[nltk_data] Downloading package stopwords to /root/nltk_data...\n",
            "[nltk_data]   Package stopwords is already up-to-date!\n"
          ]
        }
      ]
    },
    {
      "cell_type": "markdown",
      "source": [
        "### Data Load & Exploration"
      ],
      "metadata": {
        "id": "kK0gs8LcMiZu"
      }
    },
    {
      "cell_type": "code",
      "source": [
        "# Make change based on the folder structure your dataset files are at\n",
        "BASE_DIR = os.path.join(os.getcwd(), 'drive/MyDrive/NLP/DeepLearning Course')\n",
        "PATH_TRAIN = os.path.join(BASE_DIR, 'train.csv')\n",
        "PATH_TEST = os.path.join(BASE_DIR, 'test.csv')\n",
        "\n",
        "df_train = pd.read_csv(PATH_TRAIN)\n",
        "df_test = pd.read_csv(PATH_TEST)"
      ],
      "metadata": {
        "id": "1huJ_aU4MrOE"
      },
      "execution_count": null,
      "outputs": []
    },
    {
      "cell_type": "code",
      "source": [
        "# first five instances\n",
        "df_train.head()"
      ],
      "metadata": {
        "colab": {
          "base_uri": "https://localhost:8080/",
          "height": 206
        },
        "id": "uXTUSG1KNifq",
        "outputId": "bcb3ea47-3a8d-430c-cb2f-38657719bf4b"
      },
      "execution_count": null,
      "outputs": [
        {
          "output_type": "execute_result",
          "data": {
            "text/plain": [
              "   id keyword location                                               text  \\\n",
              "0   1     NaN      NaN  Our Deeds are the Reason of this #earthquake M...   \n",
              "1   4     NaN      NaN             Forest fire near La Ronge Sask. Canada   \n",
              "2   5     NaN      NaN  All residents asked to 'shelter in place' are ...   \n",
              "3   6     NaN      NaN  13,000 people receive #wildfires evacuation or...   \n",
              "4   7     NaN      NaN  Just got sent this photo from Ruby #Alaska as ...   \n",
              "\n",
              "   target  \n",
              "0       1  \n",
              "1       1  \n",
              "2       1  \n",
              "3       1  \n",
              "4       1  "
            ],
            "text/html": [
              "\n",
              "  <div id=\"df-64aead5c-f5db-46d6-83ed-d4e6e1b40192\">\n",
              "    <div class=\"colab-df-container\">\n",
              "      <div>\n",
              "<style scoped>\n",
              "    .dataframe tbody tr th:only-of-type {\n",
              "        vertical-align: middle;\n",
              "    }\n",
              "\n",
              "    .dataframe tbody tr th {\n",
              "        vertical-align: top;\n",
              "    }\n",
              "\n",
              "    .dataframe thead th {\n",
              "        text-align: right;\n",
              "    }\n",
              "</style>\n",
              "<table border=\"1\" class=\"dataframe\">\n",
              "  <thead>\n",
              "    <tr style=\"text-align: right;\">\n",
              "      <th></th>\n",
              "      <th>id</th>\n",
              "      <th>keyword</th>\n",
              "      <th>location</th>\n",
              "      <th>text</th>\n",
              "      <th>target</th>\n",
              "    </tr>\n",
              "  </thead>\n",
              "  <tbody>\n",
              "    <tr>\n",
              "      <th>0</th>\n",
              "      <td>1</td>\n",
              "      <td>NaN</td>\n",
              "      <td>NaN</td>\n",
              "      <td>Our Deeds are the Reason of this #earthquake M...</td>\n",
              "      <td>1</td>\n",
              "    </tr>\n",
              "    <tr>\n",
              "      <th>1</th>\n",
              "      <td>4</td>\n",
              "      <td>NaN</td>\n",
              "      <td>NaN</td>\n",
              "      <td>Forest fire near La Ronge Sask. Canada</td>\n",
              "      <td>1</td>\n",
              "    </tr>\n",
              "    <tr>\n",
              "      <th>2</th>\n",
              "      <td>5</td>\n",
              "      <td>NaN</td>\n",
              "      <td>NaN</td>\n",
              "      <td>All residents asked to 'shelter in place' are ...</td>\n",
              "      <td>1</td>\n",
              "    </tr>\n",
              "    <tr>\n",
              "      <th>3</th>\n",
              "      <td>6</td>\n",
              "      <td>NaN</td>\n",
              "      <td>NaN</td>\n",
              "      <td>13,000 people receive #wildfires evacuation or...</td>\n",
              "      <td>1</td>\n",
              "    </tr>\n",
              "    <tr>\n",
              "      <th>4</th>\n",
              "      <td>7</td>\n",
              "      <td>NaN</td>\n",
              "      <td>NaN</td>\n",
              "      <td>Just got sent this photo from Ruby #Alaska as ...</td>\n",
              "      <td>1</td>\n",
              "    </tr>\n",
              "  </tbody>\n",
              "</table>\n",
              "</div>\n",
              "      <button class=\"colab-df-convert\" onclick=\"convertToInteractive('df-64aead5c-f5db-46d6-83ed-d4e6e1b40192')\"\n",
              "              title=\"Convert this dataframe to an interactive table.\"\n",
              "              style=\"display:none;\">\n",
              "        \n",
              "  <svg xmlns=\"http://www.w3.org/2000/svg\" height=\"24px\"viewBox=\"0 0 24 24\"\n",
              "       width=\"24px\">\n",
              "    <path d=\"M0 0h24v24H0V0z\" fill=\"none\"/>\n",
              "    <path d=\"M18.56 5.44l.94 2.06.94-2.06 2.06-.94-2.06-.94-.94-2.06-.94 2.06-2.06.94zm-11 1L8.5 8.5l.94-2.06 2.06-.94-2.06-.94L8.5 2.5l-.94 2.06-2.06.94zm10 10l.94 2.06.94-2.06 2.06-.94-2.06-.94-.94-2.06-.94 2.06-2.06.94z\"/><path d=\"M17.41 7.96l-1.37-1.37c-.4-.4-.92-.59-1.43-.59-.52 0-1.04.2-1.43.59L10.3 9.45l-7.72 7.72c-.78.78-.78 2.05 0 2.83L4 21.41c.39.39.9.59 1.41.59.51 0 1.02-.2 1.41-.59l7.78-7.78 2.81-2.81c.8-.78.8-2.07 0-2.86zM5.41 20L4 18.59l7.72-7.72 1.47 1.35L5.41 20z\"/>\n",
              "  </svg>\n",
              "      </button>\n",
              "      \n",
              "  <style>\n",
              "    .colab-df-container {\n",
              "      display:flex;\n",
              "      flex-wrap:wrap;\n",
              "      gap: 12px;\n",
              "    }\n",
              "\n",
              "    .colab-df-convert {\n",
              "      background-color: #E8F0FE;\n",
              "      border: none;\n",
              "      border-radius: 50%;\n",
              "      cursor: pointer;\n",
              "      display: none;\n",
              "      fill: #1967D2;\n",
              "      height: 32px;\n",
              "      padding: 0 0 0 0;\n",
              "      width: 32px;\n",
              "    }\n",
              "\n",
              "    .colab-df-convert:hover {\n",
              "      background-color: #E2EBFA;\n",
              "      box-shadow: 0px 1px 2px rgba(60, 64, 67, 0.3), 0px 1px 3px 1px rgba(60, 64, 67, 0.15);\n",
              "      fill: #174EA6;\n",
              "    }\n",
              "\n",
              "    [theme=dark] .colab-df-convert {\n",
              "      background-color: #3B4455;\n",
              "      fill: #D2E3FC;\n",
              "    }\n",
              "\n",
              "    [theme=dark] .colab-df-convert:hover {\n",
              "      background-color: #434B5C;\n",
              "      box-shadow: 0px 1px 3px 1px rgba(0, 0, 0, 0.15);\n",
              "      filter: drop-shadow(0px 1px 2px rgba(0, 0, 0, 0.3));\n",
              "      fill: #FFFFFF;\n",
              "    }\n",
              "  </style>\n",
              "\n",
              "      <script>\n",
              "        const buttonEl =\n",
              "          document.querySelector('#df-64aead5c-f5db-46d6-83ed-d4e6e1b40192 button.colab-df-convert');\n",
              "        buttonEl.style.display =\n",
              "          google.colab.kernel.accessAllowed ? 'block' : 'none';\n",
              "\n",
              "        async function convertToInteractive(key) {\n",
              "          const element = document.querySelector('#df-64aead5c-f5db-46d6-83ed-d4e6e1b40192');\n",
              "          const dataTable =\n",
              "            await google.colab.kernel.invokeFunction('convertToInteractive',\n",
              "                                                     [key], {});\n",
              "          if (!dataTable) return;\n",
              "\n",
              "          const docLinkHtml = 'Like what you see? Visit the ' +\n",
              "            '<a target=\"_blank\" href=https://colab.research.google.com/notebooks/data_table.ipynb>data table notebook</a>'\n",
              "            + ' to learn more about interactive tables.';\n",
              "          element.innerHTML = '';\n",
              "          dataTable['output_type'] = 'display_data';\n",
              "          await google.colab.output.renderOutput(dataTable, element);\n",
              "          const docLink = document.createElement('div');\n",
              "          docLink.innerHTML = docLinkHtml;\n",
              "          element.appendChild(docLink);\n",
              "        }\n",
              "      </script>\n",
              "    </div>\n",
              "  </div>\n",
              "  "
            ]
          },
          "metadata": {},
          "execution_count": 210
        }
      ]
    },
    {
      "cell_type": "code",
      "source": [
        "# column information\n",
        "df_train.info()"
      ],
      "metadata": {
        "colab": {
          "base_uri": "https://localhost:8080/"
        },
        "id": "GOY4kmVMNtCS",
        "outputId": "6b83c3fe-48b3-4a8c-b3e1-ddd806ae81a3"
      },
      "execution_count": null,
      "outputs": [
        {
          "output_type": "stream",
          "name": "stdout",
          "text": [
            "<class 'pandas.core.frame.DataFrame'>\n",
            "RangeIndex: 7613 entries, 0 to 7612\n",
            "Data columns (total 5 columns):\n",
            " #   Column    Non-Null Count  Dtype \n",
            "---  ------    --------------  ----- \n",
            " 0   id        7613 non-null   int64 \n",
            " 1   keyword   7552 non-null   object\n",
            " 2   location  5080 non-null   object\n",
            " 3   text      7613 non-null   object\n",
            " 4   target    7613 non-null   int64 \n",
            "dtypes: int64(2), object(3)\n",
            "memory usage: 297.5+ KB\n"
          ]
        }
      ]
    },
    {
      "cell_type": "code",
      "source": [
        "# target distribution\n",
        "df_train['target'].value_counts()"
      ],
      "metadata": {
        "colab": {
          "base_uri": "https://localhost:8080/"
        },
        "id": "k_dbCq2zN4uc",
        "outputId": "6f555d2a-ea18-4c82-d56a-7e3cfb19a241"
      },
      "execution_count": null,
      "outputs": [
        {
          "output_type": "execute_result",
          "data": {
            "text/plain": [
              "0    4342\n",
              "1    3271\n",
              "Name: target, dtype: int64"
            ]
          },
          "metadata": {},
          "execution_count": 212
        }
      ]
    },
    {
      "cell_type": "markdown",
      "source": [
        "### Balancing the dataset"
      ],
      "metadata": {
        "id": "byBrdfPIizcR"
      }
    },
    {
      "cell_type": "code",
      "source": [
        "# Undersampling technique, a few entries of label 0 will be dropped since it is a majority class\n",
        "df_0_class = df_train[df_train['target']==0]\n",
        "df_1_class = df_train[df_train['target']==1]\n",
        "df_0_class_undersampled = df_0_class.sample(df_1_class.shape[0])\n",
        "df_train = pd.concat([df_0_class_undersampled, df_1_class], axis=0)"
      ],
      "metadata": {
        "id": "6FJiocXFiyhG"
      },
      "execution_count": null,
      "outputs": []
    },
    {
      "cell_type": "markdown",
      "source": [
        "### Text Cleaning & Preprocessing"
      ],
      "metadata": {
        "id": "1imGpl5sLj54"
      }
    },
    {
      "cell_type": "code",
      "source": [
        "def clean_text(text):\n",
        "    # Proprocessing the data\n",
        "    text = text.lower()\n",
        "    # Remove RT:\n",
        "    text = re.sub(r'(rt)([:]*) \\S+:', '', text)\n",
        "    # Remove emoticons\n",
        "    text = re.sub(r'\\s+(\\:\\)|\\:\\(|<3|\\:\\/|\\:-\\/|\\:\\||\\:p)\\s', '', text)\n",
        "    # Remove url\n",
        "    regex = r\"(?i)\\b((?:https?://|www\\d{0,3}[.]|[a-z0-9.\\-]+[.][a-z]{2,4}/)(?:[^\\s()<>]+|\\(([^\\s()<>]+|(\\([^\\s()<>]+\\)))*\\))+(?:\\(([^\\s()<>]+|(\\([^\\s()<>]+\\)))*\\)|[^\\s`!()\\[\\]{};:'\\\".,<>?«»“”‘’]))\"\n",
        "    text = re.sub(regex, '', text)\n",
        "    # Remove html entities\n",
        "    text = re.sub(r\"&(nbsp|amp|quot|lt|gt|copy);\", '', text)\n",
        "    # Code to remove the Hash from the text\n",
        "    text = re.sub(r'(\\B#)(\\S+)',r'\\2', text)\n",
        "    # Remove 'at @'\n",
        "    text = re.sub(r'@([A-Za-z0-9_]+)', '', text)\n",
        "    # Remove special characters-1\n",
        "    text = re.sub(r\"([a-z']+)([^a-z' ]+)([a-z']+)\", r\"\\1 \\3\", text)\n",
        "    text = re.sub(r\"[^a-z' ]\", \"\", text)\n",
        "    # Trim and remove sequential spaces\n",
        "    text = text.strip()\n",
        "    text = re.sub(r\"\\s+\", \" \", text)\n",
        "    return text"
      ],
      "metadata": {
        "id": "pm_1r2GJHXW7"
      },
      "execution_count": null,
      "outputs": []
    },
    {
      "cell_type": "code",
      "source": [
        "def decontration(text):\n",
        "    #below contractons are specific to words and cannot be solved by general solution\n",
        "    text = re.sub(r\"aren't\", 'are not', text)\n",
        "    text = re.sub(r\"won't\", 'will not', text)\n",
        "    text = re.sub(r\"doesn't\", 'does not', text)\n",
        "    #Below contractions are general and works for most of the word\n",
        "    text = re.sub(r\"n\\'t\", \" not\", text)\n",
        "    text = re.sub(r\"\\'re\", \" are\", text)\n",
        "    text = re.sub(r\"\\'s\", \" is\", text)\n",
        "    text = re.sub(r\"\\'d\", \" would\", text)\n",
        "    text = re.sub(r\"\\'ll\", \" will\", text)\n",
        "    text = re.sub(r\"\\'t\", \" not\", text)\n",
        "    text = re.sub(r\"\\'ve\", \" have\", text)\n",
        "    text = re.sub(r\"\\'m\", \" am\", text)\n",
        "    return text.lower()"
      ],
      "metadata": {
        "id": "YaKRx2SuGIsc"
      },
      "execution_count": null,
      "outputs": []
    },
    {
      "cell_type": "code",
      "source": [
        "# Tokenize\n",
        "def tokenize(text):\n",
        "  return word_tokenize(text)"
      ],
      "metadata": {
        "id": "WnHQDQGtPTAB"
      },
      "execution_count": null,
      "outputs": []
    },
    {
      "cell_type": "code",
      "source": [
        "# Remove stop words\n",
        "stop_words = set(stopwords.words('english')) \n",
        "def remove_stop_words(tokens):\n",
        "  return [token for token in tokens if not token in stop_words]"
      ],
      "metadata": {
        "id": "QkOEpq1HfDS2"
      },
      "execution_count": null,
      "outputs": []
    },
    {
      "cell_type": "code",
      "source": [
        "# Lemmatization\n",
        "lemmatizer = WordNetLemmatizer()\n",
        "def lemmatize(tokens):\n",
        "  return [lemmatizer.lemmatize(token) for token in tokens]"
      ],
      "metadata": {
        "id": "MbS8iGbyfa3s"
      },
      "execution_count": null,
      "outputs": []
    },
    {
      "cell_type": "code",
      "source": [
        "# Preprocess\n",
        "def clean_preprocess(text):\n",
        "  if text != np.NaN:\n",
        "    text = str(text)\n",
        "    text = clean_text(text)\n",
        "    text = decontration(text)\n",
        "    tokens = tokenize(text)\n",
        "    tokens = remove_stop_words(tokens)\n",
        "    tokens = lemmatize(tokens)\n",
        "    return ' '.join(tokens)"
      ],
      "metadata": {
        "id": "fB5-ekvdfmyv"
      },
      "execution_count": null,
      "outputs": []
    },
    {
      "cell_type": "code",
      "source": [
        "# merge keyword and text columns\n",
        "def process_merge(keyword, text):\n",
        "  if str(keyword) != 'nan':\n",
        "    return f\"{clean_preprocess(keyword)} {clean_preprocess(text)}\"\n",
        "  return clean_preprocess(text)"
      ],
      "metadata": {
        "id": "z-5X02wEgaIH"
      },
      "execution_count": null,
      "outputs": []
    },
    {
      "cell_type": "code",
      "source": [
        "df_train['processed'] = df_train.apply(lambda s: process_merge(s.keyword, s.text), axis=1)\n",
        "df_test['processed'] = df_test.apply(lambda s: process_merge(s.keyword, s.text), axis=1)"
      ],
      "metadata": {
        "id": "eSSA3YCFoCDY"
      },
      "execution_count": null,
      "outputs": []
    },
    {
      "cell_type": "code",
      "source": [
        "df_train"
      ],
      "metadata": {
        "colab": {
          "base_uri": "https://localhost:8080/",
          "height": 424
        },
        "id": "jboVv9ILsGWf",
        "outputId": "3b018ac7-ee5e-4a1f-c0a0-cd280e1b7350"
      },
      "execution_count": null,
      "outputs": [
        {
          "output_type": "execute_result",
          "data": {
            "text/plain": [
              "         id              keyword                     location  \\\n",
              "1354   1955  burning%20buildings  a botanical garden probably   \n",
              "3450   4934             exploded                          USA   \n",
              "1040   1506          body%20bags                          NaN   \n",
              "6049   8646             sinkhole          Trinidad and Tobago   \n",
              "6112   8726              sinking                       HOMRA.   \n",
              "...     ...                  ...                          ...   \n",
              "7608  10869                  NaN                          NaN   \n",
              "7609  10870                  NaN                          NaN   \n",
              "7610  10871                  NaN                          NaN   \n",
              "7611  10872                  NaN                          NaN   \n",
              "7612  10873                  NaN                          NaN   \n",
              "\n",
              "                                                   text  target  \\\n",
              "1354  drew storen is probably curing cancer &amp; sa...       0   \n",
              "3450  If you told me ten years ago that I'd be seein...       0   \n",
              "1040  I love The body shopÛªs bags??\\n\\n#cutekitten...       0   \n",
              "6049  nothing surprises me anymore and i am sure the...       0   \n",
              "6112  In your eyes I see the hope\\nI once knew.\\nI'm...       0   \n",
              "...                                                 ...     ...   \n",
              "7608  Two giant cranes holding a bridge collapse int...       1   \n",
              "7609  @aria_ahrary @TheTawniest The out of control w...       1   \n",
              "7610  M1.94 [01:04 UTC]?5km S of Volcano Hawaii. htt...       1   \n",
              "7611  Police investigating after an e-bike collided ...       1   \n",
              "7612  The Latest: More Homes Razed by Northern Calif...       1   \n",
              "\n",
              "                                              processed  \n",
              "1354  burning building drew storen probably curing c...  \n",
              "3450  exploded told ten year ago would seeing anime ...  \n",
              "1040  body bag love body shop bag cutekitten catsofi...  \n",
              "6049        sinkhole nothing surprise anymore sure come  \n",
              "6112  sinking eye see hope knew sinking sinking away...  \n",
              "...                                                 ...  \n",
              "7608  two giant crane holding bridge collapse nearby...  \n",
              "7609  control wild fire california even northern par...  \n",
              "7610                              utc km volcano hawaii  \n",
              "7611  police investigating e bike collided car littl...  \n",
              "7612  latest home razed northern california wildfire...  \n",
              "\n",
              "[6542 rows x 6 columns]"
            ],
            "text/html": [
              "\n",
              "  <div id=\"df-02ed7ccd-f021-4558-b06c-b065d7fadc94\">\n",
              "    <div class=\"colab-df-container\">\n",
              "      <div>\n",
              "<style scoped>\n",
              "    .dataframe tbody tr th:only-of-type {\n",
              "        vertical-align: middle;\n",
              "    }\n",
              "\n",
              "    .dataframe tbody tr th {\n",
              "        vertical-align: top;\n",
              "    }\n",
              "\n",
              "    .dataframe thead th {\n",
              "        text-align: right;\n",
              "    }\n",
              "</style>\n",
              "<table border=\"1\" class=\"dataframe\">\n",
              "  <thead>\n",
              "    <tr style=\"text-align: right;\">\n",
              "      <th></th>\n",
              "      <th>id</th>\n",
              "      <th>keyword</th>\n",
              "      <th>location</th>\n",
              "      <th>text</th>\n",
              "      <th>target</th>\n",
              "      <th>processed</th>\n",
              "    </tr>\n",
              "  </thead>\n",
              "  <tbody>\n",
              "    <tr>\n",
              "      <th>1354</th>\n",
              "      <td>1955</td>\n",
              "      <td>burning%20buildings</td>\n",
              "      <td>a botanical garden probably</td>\n",
              "      <td>drew storen is probably curing cancer &amp;amp; sa...</td>\n",
              "      <td>0</td>\n",
              "      <td>burning building drew storen probably curing c...</td>\n",
              "    </tr>\n",
              "    <tr>\n",
              "      <th>3450</th>\n",
              "      <td>4934</td>\n",
              "      <td>exploded</td>\n",
              "      <td>USA</td>\n",
              "      <td>If you told me ten years ago that I'd be seein...</td>\n",
              "      <td>0</td>\n",
              "      <td>exploded told ten year ago would seeing anime ...</td>\n",
              "    </tr>\n",
              "    <tr>\n",
              "      <th>1040</th>\n",
              "      <td>1506</td>\n",
              "      <td>body%20bags</td>\n",
              "      <td>NaN</td>\n",
              "      <td>I love The body shopÛªs bags??\\n\\n#cutekitten...</td>\n",
              "      <td>0</td>\n",
              "      <td>body bag love body shop bag cutekitten catsofi...</td>\n",
              "    </tr>\n",
              "    <tr>\n",
              "      <th>6049</th>\n",
              "      <td>8646</td>\n",
              "      <td>sinkhole</td>\n",
              "      <td>Trinidad and Tobago</td>\n",
              "      <td>nothing surprises me anymore and i am sure the...</td>\n",
              "      <td>0</td>\n",
              "      <td>sinkhole nothing surprise anymore sure come</td>\n",
              "    </tr>\n",
              "    <tr>\n",
              "      <th>6112</th>\n",
              "      <td>8726</td>\n",
              "      <td>sinking</td>\n",
              "      <td>HOMRA.</td>\n",
              "      <td>In your eyes I see the hope\\nI once knew.\\nI'm...</td>\n",
              "      <td>0</td>\n",
              "      <td>sinking eye see hope knew sinking sinking away...</td>\n",
              "    </tr>\n",
              "    <tr>\n",
              "      <th>...</th>\n",
              "      <td>...</td>\n",
              "      <td>...</td>\n",
              "      <td>...</td>\n",
              "      <td>...</td>\n",
              "      <td>...</td>\n",
              "      <td>...</td>\n",
              "    </tr>\n",
              "    <tr>\n",
              "      <th>7608</th>\n",
              "      <td>10869</td>\n",
              "      <td>NaN</td>\n",
              "      <td>NaN</td>\n",
              "      <td>Two giant cranes holding a bridge collapse int...</td>\n",
              "      <td>1</td>\n",
              "      <td>two giant crane holding bridge collapse nearby...</td>\n",
              "    </tr>\n",
              "    <tr>\n",
              "      <th>7609</th>\n",
              "      <td>10870</td>\n",
              "      <td>NaN</td>\n",
              "      <td>NaN</td>\n",
              "      <td>@aria_ahrary @TheTawniest The out of control w...</td>\n",
              "      <td>1</td>\n",
              "      <td>control wild fire california even northern par...</td>\n",
              "    </tr>\n",
              "    <tr>\n",
              "      <th>7610</th>\n",
              "      <td>10871</td>\n",
              "      <td>NaN</td>\n",
              "      <td>NaN</td>\n",
              "      <td>M1.94 [01:04 UTC]?5km S of Volcano Hawaii. htt...</td>\n",
              "      <td>1</td>\n",
              "      <td>utc km volcano hawaii</td>\n",
              "    </tr>\n",
              "    <tr>\n",
              "      <th>7611</th>\n",
              "      <td>10872</td>\n",
              "      <td>NaN</td>\n",
              "      <td>NaN</td>\n",
              "      <td>Police investigating after an e-bike collided ...</td>\n",
              "      <td>1</td>\n",
              "      <td>police investigating e bike collided car littl...</td>\n",
              "    </tr>\n",
              "    <tr>\n",
              "      <th>7612</th>\n",
              "      <td>10873</td>\n",
              "      <td>NaN</td>\n",
              "      <td>NaN</td>\n",
              "      <td>The Latest: More Homes Razed by Northern Calif...</td>\n",
              "      <td>1</td>\n",
              "      <td>latest home razed northern california wildfire...</td>\n",
              "    </tr>\n",
              "  </tbody>\n",
              "</table>\n",
              "<p>6542 rows × 6 columns</p>\n",
              "</div>\n",
              "      <button class=\"colab-df-convert\" onclick=\"convertToInteractive('df-02ed7ccd-f021-4558-b06c-b065d7fadc94')\"\n",
              "              title=\"Convert this dataframe to an interactive table.\"\n",
              "              style=\"display:none;\">\n",
              "        \n",
              "  <svg xmlns=\"http://www.w3.org/2000/svg\" height=\"24px\"viewBox=\"0 0 24 24\"\n",
              "       width=\"24px\">\n",
              "    <path d=\"M0 0h24v24H0V0z\" fill=\"none\"/>\n",
              "    <path d=\"M18.56 5.44l.94 2.06.94-2.06 2.06-.94-2.06-.94-.94-2.06-.94 2.06-2.06.94zm-11 1L8.5 8.5l.94-2.06 2.06-.94-2.06-.94L8.5 2.5l-.94 2.06-2.06.94zm10 10l.94 2.06.94-2.06 2.06-.94-2.06-.94-.94-2.06-.94 2.06-2.06.94z\"/><path d=\"M17.41 7.96l-1.37-1.37c-.4-.4-.92-.59-1.43-.59-.52 0-1.04.2-1.43.59L10.3 9.45l-7.72 7.72c-.78.78-.78 2.05 0 2.83L4 21.41c.39.39.9.59 1.41.59.51 0 1.02-.2 1.41-.59l7.78-7.78 2.81-2.81c.8-.78.8-2.07 0-2.86zM5.41 20L4 18.59l7.72-7.72 1.47 1.35L5.41 20z\"/>\n",
              "  </svg>\n",
              "      </button>\n",
              "      \n",
              "  <style>\n",
              "    .colab-df-container {\n",
              "      display:flex;\n",
              "      flex-wrap:wrap;\n",
              "      gap: 12px;\n",
              "    }\n",
              "\n",
              "    .colab-df-convert {\n",
              "      background-color: #E8F0FE;\n",
              "      border: none;\n",
              "      border-radius: 50%;\n",
              "      cursor: pointer;\n",
              "      display: none;\n",
              "      fill: #1967D2;\n",
              "      height: 32px;\n",
              "      padding: 0 0 0 0;\n",
              "      width: 32px;\n",
              "    }\n",
              "\n",
              "    .colab-df-convert:hover {\n",
              "      background-color: #E2EBFA;\n",
              "      box-shadow: 0px 1px 2px rgba(60, 64, 67, 0.3), 0px 1px 3px 1px rgba(60, 64, 67, 0.15);\n",
              "      fill: #174EA6;\n",
              "    }\n",
              "\n",
              "    [theme=dark] .colab-df-convert {\n",
              "      background-color: #3B4455;\n",
              "      fill: #D2E3FC;\n",
              "    }\n",
              "\n",
              "    [theme=dark] .colab-df-convert:hover {\n",
              "      background-color: #434B5C;\n",
              "      box-shadow: 0px 1px 3px 1px rgba(0, 0, 0, 0.15);\n",
              "      filter: drop-shadow(0px 1px 2px rgba(0, 0, 0, 0.3));\n",
              "      fill: #FFFFFF;\n",
              "    }\n",
              "  </style>\n",
              "\n",
              "      <script>\n",
              "        const buttonEl =\n",
              "          document.querySelector('#df-02ed7ccd-f021-4558-b06c-b065d7fadc94 button.colab-df-convert');\n",
              "        buttonEl.style.display =\n",
              "          google.colab.kernel.accessAllowed ? 'block' : 'none';\n",
              "\n",
              "        async function convertToInteractive(key) {\n",
              "          const element = document.querySelector('#df-02ed7ccd-f021-4558-b06c-b065d7fadc94');\n",
              "          const dataTable =\n",
              "            await google.colab.kernel.invokeFunction('convertToInteractive',\n",
              "                                                     [key], {});\n",
              "          if (!dataTable) return;\n",
              "\n",
              "          const docLinkHtml = 'Like what you see? Visit the ' +\n",
              "            '<a target=\"_blank\" href=https://colab.research.google.com/notebooks/data_table.ipynb>data table notebook</a>'\n",
              "            + ' to learn more about interactive tables.';\n",
              "          element.innerHTML = '';\n",
              "          dataTable['output_type'] = 'display_data';\n",
              "          await google.colab.output.renderOutput(dataTable, element);\n",
              "          const docLink = document.createElement('div');\n",
              "          docLink.innerHTML = docLinkHtml;\n",
              "          element.appendChild(docLink);\n",
              "        }\n",
              "      </script>\n",
              "    </div>\n",
              "  </div>\n",
              "  "
            ]
          },
          "metadata": {},
          "execution_count": 222
        }
      ]
    },
    {
      "cell_type": "markdown",
      "source": [
        "### Feature Extraction"
      ],
      "metadata": {
        "id": "IinV7lFsWN2N"
      }
    },
    {
      "cell_type": "code",
      "source": [
        "train_texts = list(df_train['processed'])\n",
        "test_texts = list(df_test['processed'])\n",
        "targets = list(df_train['target'])"
      ],
      "metadata": {
        "id": "QRdmEwJDSg2a"
      },
      "execution_count": null,
      "outputs": []
    },
    {
      "cell_type": "code",
      "source": [
        "TOP_K = 3000\n",
        "MAX_SEQUENCE_LENGTH = 200\n",
        "batch_size = 256"
      ],
      "metadata": {
        "id": "81bIhV0cSVPo"
      },
      "execution_count": null,
      "outputs": []
    },
    {
      "cell_type": "code",
      "source": [
        "tokenizer = Tokenizer(num_words=TOP_K)\n",
        "tokenizer.fit_on_texts(train_texts)\n",
        "X = tokenizer.texts_to_sequences(train_texts)\n",
        "X = sequence.pad_sequences(X, maxlen=MAX_SEQUENCE_LENGTH)\n",
        "y = np.array(targets)"
      ],
      "metadata": {
        "id": "dWHrc_x3SXUl"
      },
      "execution_count": null,
      "outputs": []
    },
    {
      "cell_type": "code",
      "source": [
        "X_train, X_val, y_train, y_val = train_test_split(X, y, test_size=0.1, random_state=1, stratify=y)"
      ],
      "metadata": {
        "id": "_td__mzuVhBh"
      },
      "execution_count": null,
      "outputs": []
    },
    {
      "cell_type": "code",
      "source": [
        "def input_fn(X: np.ndarray, y: np.ndarray, batch_size: int,  mode: str = 'eval'):\n",
        "    dataset = tf.data.Dataset.from_tensor_slices((X, y))\n",
        "\n",
        "    if mode == 'train':\n",
        "        dataset = dataset.shuffle(buffer_size=batch_size)\n",
        "        dataset = dataset.repeat()\n",
        "\n",
        "    dataset = dataset.batch(batch_size=batch_size)\n",
        "    dataset = dataset.prefetch(buffer_size=batch_size)\n",
        "    return dataset"
      ],
      "metadata": {
        "id": "lkWLZya7ZKYH"
      },
      "execution_count": null,
      "outputs": []
    },
    {
      "cell_type": "code",
      "source": [
        "train_dataset = input_fn(X=X_train, y=y_train, batch_size=batch_size, mode='train')\n",
        "val_dataset = input_fn(X=X_val, y=y_val, batch_size=batch_size, mode='eval')"
      ],
      "metadata": {
        "id": "da69FRugZNKh"
      },
      "execution_count": null,
      "outputs": []
    },
    {
      "cell_type": "markdown",
      "source": [
        "### Build Model"
      ],
      "metadata": {
        "id": "T-im7lYNZcLR"
      }
    },
    {
      "cell_type": "code",
      "source": [
        "num_features = min(len(tokenizer.word_index) + 1, TOP_K)"
      ],
      "metadata": {
        "id": "EPTSgukpapUS"
      },
      "execution_count": null,
      "outputs": []
    },
    {
      "cell_type": "markdown",
      "source": [
        ""
      ],
      "metadata": {
        "id": "hZ0vNvHGKexg"
      }
    },
    {
      "cell_type": "code",
      "source": [
        "m= [\n",
        "      tf.keras.metrics.BinaryAccuracy(name='accuracy'),\n",
        "      tf.keras.metrics.Precision(name='precision'),\n",
        "      tf.keras.metrics.Recall(name='recall')\n",
        "]"
      ],
      "metadata": {
        "id": "jz2nqvS_Khdr"
      },
      "execution_count": null,
      "outputs": []
    },
    {
      "cell_type": "code",
      "source": [
        "def build_LSTM(embedding=None):\n",
        "    model = Sequential()\n",
        "    if embedding:\n",
        "      model.add(embedding)\n",
        "    else: \n",
        "      model.add(layers.Embedding(input_dim=num_features,\n",
        "                            output_dim=200,\n",
        "                            input_length=MAX_SEQUENCE_LENGTH))\n",
        "    model.add(layers.SpatialDropout1D(0.2))\n",
        "    model.add(layers.LSTM(64,dropout=0.2, recurrent_dropout=0.2))\n",
        "    model.add(layers.Dense(50, activation='relu'))\n",
        "    model.add(layers.Dense(25, activation='relu'))\n",
        "    model.add(layers.Dense(1, activation='sigmoid'))\n",
        "    optimzer=tf.keras.optimizers.Adam(learning_rate=0.001)\n",
        "    model.compile(loss='binary_crossentropy',optimizer=optimzer,metrics=m)\n",
        "    return model"
      ],
      "metadata": {
        "id": "ZVlE0JIO6dJd"
      },
      "execution_count": null,
      "outputs": []
    },
    {
      "cell_type": "code",
      "source": [
        "model = build_LSTM()\n",
        "steps_per_epoch = int(y_train.size / batch_size)*1.5\n",
        "history = model.fit(\n",
        "    train_dataset,\n",
        "    validation_data=val_dataset,\n",
        "    epochs=10,\n",
        "    steps_per_epoch=steps_per_epoch)"
      ],
      "metadata": {
        "colab": {
          "base_uri": "https://localhost:8080/"
        },
        "id": "WkRN5-DW6h-8",
        "outputId": "fe7e606b-c5d1-47e7-bdaa-a8cef8833b46"
      },
      "execution_count": null,
      "outputs": [
        {
          "output_type": "stream",
          "name": "stdout",
          "text": [
            "WARNING:tensorflow:Layer lstm_25 will not use cuDNN kernels since it doesn't meet the criteria. It will use a generic GPU kernel as fallback when running on GPU.\n"
          ]
        },
        {
          "output_type": "stream",
          "name": "stderr",
          "text": [
            "WARNING:tensorflow:Layer lstm_25 will not use cuDNN kernels since it doesn't meet the criteria. It will use a generic GPU kernel as fallback when running on GPU.\n"
          ]
        },
        {
          "output_type": "stream",
          "name": "stdout",
          "text": [
            "Epoch 1/10\n",
            "28/28 [==============================] - 21s 656ms/step - loss: 0.6357 - accuracy: 0.6654 - precision: 0.6754 - recall: 0.6302 - val_loss: 0.5271 - val_accuracy: 0.7481 - val_precision: 0.7283 - val_recall: 0.7927\n",
            "Epoch 2/10\n",
            "28/28 [==============================] - 18s 642ms/step - loss: 0.4139 - accuracy: 0.8178 - precision: 0.8452 - recall: 0.7791 - val_loss: 0.4575 - val_accuracy: 0.7863 - val_precision: 0.8310 - val_recall: 0.7195\n",
            "Epoch 3/10\n",
            "28/28 [==============================] - 18s 638ms/step - loss: 0.3159 - accuracy: 0.8677 - precision: 0.8948 - recall: 0.8336 - val_loss: 0.5323 - val_accuracy: 0.7725 - val_precision: 0.7704 - val_recall: 0.7774\n",
            "Epoch 4/10\n",
            "28/28 [==============================] - 18s 643ms/step - loss: 0.2688 - accuracy: 0.8961 - precision: 0.9214 - recall: 0.8661 - val_loss: 0.5954 - val_accuracy: 0.7634 - val_precision: 0.7855 - val_recall: 0.7256\n",
            "Epoch 5/10\n",
            "28/28 [==============================] - 18s 641ms/step - loss: 0.2402 - accuracy: 0.9092 - precision: 0.9348 - recall: 0.8792 - val_loss: 0.7090 - val_accuracy: 0.7481 - val_precision: 0.7335 - val_recall: 0.7805\n",
            "Epoch 6/10\n",
            "28/28 [==============================] - 18s 642ms/step - loss: 0.2150 - accuracy: 0.9196 - precision: 0.9387 - recall: 0.8981 - val_loss: 0.6678 - val_accuracy: 0.7450 - val_precision: 0.7825 - val_recall: 0.6799\n",
            "Epoch 7/10\n",
            "28/28 [==============================] - 18s 639ms/step - loss: 0.2113 - accuracy: 0.9205 - precision: 0.9397 - recall: 0.8986 - val_loss: 0.7476 - val_accuracy: 0.7374 - val_precision: 0.7407 - val_recall: 0.7317\n",
            "Epoch 8/10\n",
            "28/28 [==============================] - 18s 636ms/step - loss: 0.1763 - accuracy: 0.9352 - precision: 0.9530 - recall: 0.9158 - val_loss: 0.8869 - val_accuracy: 0.7328 - val_precision: 0.7398 - val_recall: 0.7195\n",
            "Epoch 9/10\n",
            "28/28 [==============================] - 18s 641ms/step - loss: 0.1644 - accuracy: 0.9415 - precision: 0.9640 - recall: 0.9171 - val_loss: 0.9570 - val_accuracy: 0.7374 - val_precision: 0.7422 - val_recall: 0.7287\n",
            "Epoch 10/10\n",
            "28/28 [==============================] - 18s 636ms/step - loss: 0.1420 - accuracy: 0.9476 - precision: 0.9673 - recall: 0.9271 - val_loss: 1.0457 - val_accuracy: 0.7298 - val_precision: 0.7151 - val_recall: 0.7652\n"
          ]
        }
      ]
    },
    {
      "cell_type": "code",
      "source": [
        "model.summary()"
      ],
      "metadata": {
        "colab": {
          "base_uri": "https://localhost:8080/"
        },
        "id": "HaHXRr9WI0wV",
        "outputId": "081863d7-cb94-4bf0-8e40-6255dd27a604"
      },
      "execution_count": null,
      "outputs": [
        {
          "output_type": "stream",
          "name": "stdout",
          "text": [
            "Model: \"sequential_16\"\n",
            "_________________________________________________________________\n",
            " Layer (type)                Output Shape              Param #   \n",
            "=================================================================\n",
            " embedding_16 (Embedding)    (None, 200, 200)          600000    \n",
            "                                                                 \n",
            " spatial_dropout1d_13 (Spati  (None, 200, 200)         0         \n",
            " alDropout1D)                                                    \n",
            "                                                                 \n",
            " lstm_15 (LSTM)              (None, 64)                67840     \n",
            "                                                                 \n",
            " dense_26 (Dense)            (None, 50)                3250      \n",
            "                                                                 \n",
            " dense_27 (Dense)            (None, 25)                1275      \n",
            "                                                                 \n",
            " dense_28 (Dense)            (None, 1)                 26        \n",
            "                                                                 \n",
            "=================================================================\n",
            "Total params: 672,391\n",
            "Trainable params: 672,391\n",
            "Non-trainable params: 0\n",
            "_________________________________________________________________\n"
          ]
        }
      ]
    },
    {
      "cell_type": "markdown",
      "source": [
        "### Model evaluation"
      ],
      "metadata": {
        "id": "PoFPem2pk6F2"
      }
    },
    {
      "cell_type": "code",
      "source": [
        "plt.plot(history.history['loss'], label='train_loss')\n",
        "plt.plot(history.history['val_loss'], label='val_loss')\n",
        "plt.legend()\n",
        "plt.show()"
      ],
      "metadata": {
        "colab": {
          "base_uri": "https://localhost:8080/",
          "height": 265
        },
        "id": "Zj0CFZHjk536",
        "outputId": "7f3c6668-1c89-48e9-b029-d56f6de02543"
      },
      "execution_count": null,
      "outputs": [
        {
          "output_type": "display_data",
          "data": {
            "text/plain": [
              "<Figure size 432x288 with 1 Axes>"
            ],
            "image/png": "[encoded data removed]"
          },
          "metadata": {
            "needs_background": "light"
          }
        }
      ]
    },
    {
      "cell_type": "code",
      "source": [
        "plt.plot(history.history['accuracy'], label='train_accuracy')\n",
        "plt.plot(history.history['val_accuracy'], label='val_accuracy')\n",
        "plt.legend()\n",
        "plt.show()"
      ],
      "metadata": {
        "colab": {
          "base_uri": "https://localhost:8080/",
          "height": 265
        },
        "id": "uMea1Aqnk9fB",
        "outputId": "64e42b0c-682f-4057-bc8d-bdd24aceb84f"
      },
      "execution_count": null,
      "outputs": [
        {
          "output_type": "display_data",
          "data": {
            "text/plain": [
              "<Figure size 432x288 with 1 Axes>"
            ],
            "image/png": "[encoded data removed]"
          },
          "metadata": {
            "needs_background": "light"
          }
        }
      ]
    },
    {
      "cell_type": "markdown",
      "source": [
        "### Feature Extraction"
      ],
      "metadata": {
        "id": "uWDNnpOCxa7P"
      }
    },
    {
      "cell_type": "code",
      "source": [
        "glove_twitter = gensim.downloader.load('glove-twitter-200')"
      ],
      "metadata": {
        "id": "bE1oVQ0oydUw"
      },
      "execution_count": null,
      "outputs": []
    },
    {
      "cell_type": "code",
      "source": [
        "word_index = tokenizer.word_index\n",
        "num_words=len(word_index)+1\n",
        "embedding_matrix=np.zeros((num_words,200))\n",
        "\n",
        "for word,i in tqdm(word_index.items()):\n",
        "    if i > num_words:\n",
        "        continue\n",
        "    \n",
        "    if word in glove_twitter:\n",
        "      emb_vec=glove_twitter[word]\n",
        "      embedding_matrix[i]=emb_vec"
      ],
      "metadata": {
        "colab": {
          "base_uri": "https://localhost:8080/"
        },
        "id": "DOYwR-_pBeuQ",
        "outputId": "0015e1a2-451f-4653-f742-266a8dd0389b"
      },
      "execution_count": null,
      "outputs": [
        {
          "output_type": "stream",
          "name": "stderr",
          "text": [
            "100%|██████████| 11825/11825 [00:00<00:00, 243767.39it/s]\n"
          ]
        }
      ]
    },
    {
      "cell_type": "code",
      "source": [
        "embedding=layers.Embedding(num_words,200,embeddings_initializer=Constant(embedding_matrix),\n",
        "                input_length=200,trainable=False)\n",
        "model_glove = build_LSTM(embedding)\n",
        "steps_per_epoch = int(y_train.size / batch_size)*1.5\n",
        "history = model_glove.fit(\n",
        "    train_dataset,\n",
        "    validation_data=val_dataset,\n",
        "    epochs=10,\n",
        "    steps_per_epoch=steps_per_epoch)"
      ],
      "metadata": {
        "colab": {
          "base_uri": "https://localhost:8080/"
        },
        "id": "xgN_BPFHCz-b",
        "outputId": "d498deb9-3b51-4976-819f-c2a25a0245f8"
      },
      "execution_count": null,
      "outputs": [
        {
          "output_type": "stream",
          "name": "stdout",
          "text": [
            "WARNING:tensorflow:Layer lstm_27 will not use cuDNN kernels since it doesn't meet the criteria. It will use a generic GPU kernel as fallback when running on GPU.\n"
          ]
        },
        {
          "output_type": "stream",
          "name": "stderr",
          "text": [
            "WARNING:tensorflow:Layer lstm_27 will not use cuDNN kernels since it doesn't meet the criteria. It will use a generic GPU kernel as fallback when running on GPU.\n"
          ]
        },
        {
          "output_type": "stream",
          "name": "stdout",
          "text": [
            "Epoch 1/10\n",
            "28/28 [==============================] - 20s 596ms/step - loss: 0.6314 - accuracy: 0.6437 - precision: 0.6030 - recall: 0.8278 - val_loss: 0.5151 - val_accuracy: 0.7405 - val_precision: 0.7582 - val_recall: 0.7073\n",
            "Epoch 2/10\n",
            "28/28 [==============================] - 16s 580ms/step - loss: 0.4916 - accuracy: 0.7699 - precision: 0.7844 - recall: 0.7447 - val_loss: 0.4734 - val_accuracy: 0.7649 - val_precision: 0.7636 - val_recall: 0.7683\n",
            "Epoch 3/10\n",
            "28/28 [==============================] - 16s 573ms/step - loss: 0.4556 - accuracy: 0.7883 - precision: 0.8104 - recall: 0.7528 - val_loss: 0.4605 - val_accuracy: 0.7817 - val_precision: 0.8033 - val_recall: 0.7470\n",
            "Epoch 4/10\n",
            "28/28 [==============================] - 16s 572ms/step - loss: 0.4357 - accuracy: 0.8024 - precision: 0.8261 - recall: 0.7668 - val_loss: 0.4604 - val_accuracy: 0.7832 - val_precision: 0.8039 - val_recall: 0.7500\n",
            "Epoch 5/10\n",
            "28/28 [==============================] - 16s 558ms/step - loss: 0.4313 - accuracy: 0.8032 - precision: 0.8328 - recall: 0.7559 - val_loss: 0.4632 - val_accuracy: 0.7863 - val_precision: 0.8154 - val_recall: 0.7409\n",
            "Epoch 6/10\n",
            "28/28 [==============================] - 16s 563ms/step - loss: 0.4230 - accuracy: 0.8050 - precision: 0.8322 - recall: 0.7672 - val_loss: 0.4690 - val_accuracy: 0.7893 - val_precision: 0.7861 - val_recall: 0.7957\n",
            "Epoch 7/10\n",
            "28/28 [==============================] - 16s 560ms/step - loss: 0.4103 - accuracy: 0.8176 - precision: 0.8468 - recall: 0.7735 - val_loss: 0.4605 - val_accuracy: 0.7802 - val_precision: 0.8046 - val_recall: 0.7409\n",
            "Epoch 8/10\n",
            "28/28 [==============================] - 16s 558ms/step - loss: 0.3959 - accuracy: 0.8261 - precision: 0.8566 - recall: 0.7835 - val_loss: 0.4704 - val_accuracy: 0.7924 - val_precision: 0.7963 - val_recall: 0.7866\n",
            "Epoch 9/10\n",
            "28/28 [==============================] - 17s 605ms/step - loss: 0.3936 - accuracy: 0.8183 - precision: 0.8540 - recall: 0.7677 - val_loss: 0.4636 - val_accuracy: 0.7847 - val_precision: 0.8086 - val_recall: 0.7470\n",
            "Epoch 10/10\n",
            "28/28 [==============================] - 19s 658ms/step - loss: 0.3781 - accuracy: 0.8300 - precision: 0.8571 - recall: 0.7930 - val_loss: 0.4759 - val_accuracy: 0.7832 - val_precision: 0.7925 - val_recall: 0.7683\n"
          ]
        }
      ]
    },
    {
      "cell_type": "code",
      "source": [
        "model_glove.summary()"
      ],
      "metadata": {
        "colab": {
          "base_uri": "https://localhost:8080/"
        },
        "id": "XiqpqRXQJjZn",
        "outputId": "70fdbb1e-6a3a-4fc8-d422-b3ee4c0b63c8"
      },
      "execution_count": null,
      "outputs": [
        {
          "output_type": "stream",
          "name": "stdout",
          "text": [
            "Model: \"sequential_17\"\n",
            "_________________________________________________________________\n",
            " Layer (type)                Output Shape              Param #   \n",
            "=================================================================\n",
            " embedding_17 (Embedding)    (None, 200, 200)          2365200   \n",
            "                                                                 \n",
            " spatial_dropout1d_14 (Spati  (None, 200, 200)         0         \n",
            " alDropout1D)                                                    \n",
            "                                                                 \n",
            " lstm_16 (LSTM)              (None, 64)                67840     \n",
            "                                                                 \n",
            " dense_29 (Dense)            (None, 50)                3250      \n",
            "                                                                 \n",
            " dense_30 (Dense)            (None, 25)                1275      \n",
            "                                                                 \n",
            " dense_31 (Dense)            (None, 1)                 26        \n",
            "                                                                 \n",
            "=================================================================\n",
            "Total params: 2,437,591\n",
            "Trainable params: 72,391\n",
            "Non-trainable params: 2,365,200\n",
            "_________________________________________________________________\n"
          ]
        }
      ]
    },
    {
      "cell_type": "code",
      "source": [
        "plt.plot(history.history['loss'], label='train_loss')\n",
        "plt.plot(history.history['val_loss'], label='val_loss')\n",
        "plt.legend()\n",
        "plt.show()"
      ],
      "metadata": {
        "colab": {
          "base_uri": "https://localhost:8080/",
          "height": 265
        },
        "id": "XmJSc1vp2DDN",
        "outputId": "65a8e3ac-78ad-4c0c-ce05-0997426d2769"
      },
      "execution_count": null,
      "outputs": [
        {
          "output_type": "display_data",
          "data": {
            "text/plain": [
              "<Figure size 432x288 with 1 Axes>"
            ],
            "image/png": "[encoded data removed]"
          },
          "metadata": {
            "needs_background": "light"
          }
        }
      ]
    },
    {
      "cell_type": "code",
      "source": [
        "plt.plot(history.history['accuracy'], label='train_accuracy')\n",
        "plt.plot(history.history['val_accuracy'], label='val_accuracy')\n",
        "plt.legend()\n",
        "plt.show()"
      ],
      "metadata": {
        "colab": {
          "base_uri": "https://localhost:8080/",
          "height": 265
        },
        "id": "jK_58L4MIy8u",
        "outputId": "29d5bd9c-b93f-4fee-bc74-6604de5f7145"
      },
      "execution_count": null,
      "outputs": [
        {
          "output_type": "display_data",
          "data": {
            "text/plain": [
              "<Figure size 432x288 with 1 Axes>"
            ],
            "image/png": "[encoded data removed]"
          },
          "metadata": {
            "needs_background": "light"
          }
        }
      ]
    },
    {
      "cell_type": "markdown",
      "source": [
        "### State-of-the-art Model - BERT"
      ],
      "metadata": {
        "id": "lJWGatfjQW-8"
      }
    },
    {
      "cell_type": "code",
      "source": [
        "#download the BERT preprocessor and encoder\n",
        "preprocess = hub.KerasLayer(\"https://tfhub.dev/tensorflow/bert_en_uncased_preprocess/3\")\n",
        "encoder = hub.KerasLayer(\"https://tfhub.dev/tensorflow/bert_en_uncased_L-12_H-768_A-12/4\")"
      ],
      "metadata": {
        "id": "rTxhgjWbNbR3"
      },
      "execution_count": null,
      "outputs": []
    },
    {
      "cell_type": "code",
      "source": [
        "#Using BERT layers (the first three) followed by the neural network layer. \n",
        "#Included a dropout layer and eventually, the output layer will classify whether the given text is disaster news or not.\n",
        "text_input = tf.keras.layers.Input(shape=(), dtype=tf.string, name='text-layer')\n",
        "preprocessed_text = preprocess(text_input)\n",
        "outputs = encoder(preprocessed_text)\n",
        "d_layer = tf.keras.layers.Dropout(0.1, name=\"dropout-layer\")(outputs['pooled_output'])\n",
        "d_layer = tf.keras.layers.Dense(1, activation='sigmoid', name=\"output\")(d_layer)\n",
        "model_bert = tf.keras.Model(inputs=[text_input], outputs = [d_layer])"
      ],
      "metadata": {
        "id": "n0QXnvbmQY4I"
      },
      "execution_count": null,
      "outputs": []
    },
    {
      "cell_type": "code",
      "source": [
        "model_bert.compile(optimizer='adam', loss='binary_crossentropy', metrics=m)"
      ],
      "metadata": {
        "id": "9YcaUogZR-sm"
      },
      "execution_count": null,
      "outputs": []
    },
    {
      "cell_type": "code",
      "source": [
        "X_train, X_val, y_train, y_val = train_test_split(df_train['processed'], df_train['target'], stratify=df_train['target'])"
      ],
      "metadata": {
        "id": "bicnM0asSDnW"
      },
      "execution_count": null,
      "outputs": []
    },
    {
      "cell_type": "code",
      "source": [
        "history_bert = model_bert.fit(X_train, y_train, validation_data=(X_val, y_val), epochs=10)"
      ],
      "metadata": {
        "colab": {
          "base_uri": "https://localhost:8080/"
        },
        "id": "8sMpbSizSSbX",
        "outputId": "5c2f3cad-5a2d-4649-cc32-1827237c23e7"
      },
      "execution_count": null,
      "outputs": [
        {
          "output_type": "stream",
          "name": "stdout",
          "text": [
            "Epoch 1/10\n",
            "154/154 [==============================] - 54s 287ms/step - loss: 0.6671 - accuracy: 0.6170 - precision: 0.6194 - recall: 0.6073 - val_loss: 0.6139 - val_accuracy: 0.6932 - val_precision: 0.7651 - val_recall: 0.5575\n",
            "Epoch 2/10\n",
            "154/154 [==============================] - 43s 279ms/step - loss: 0.6059 - accuracy: 0.6863 - precision: 0.6928 - recall: 0.6694 - val_loss: 0.5837 - val_accuracy: 0.7200 - val_precision: 0.6883 - val_recall: 0.8044\n",
            "Epoch 3/10\n",
            "154/154 [==============================] - 43s 280ms/step - loss: 0.5801 - accuracy: 0.7053 - precision: 0.7133 - recall: 0.6865 - val_loss: 0.5653 - val_accuracy: 0.7280 - val_precision: 0.7984 - val_recall: 0.6100\n",
            "Epoch 4/10\n",
            "154/154 [==============================] - 43s 280ms/step - loss: 0.5602 - accuracy: 0.7256 - precision: 0.7377 - recall: 0.7004 - val_loss: 0.5503 - val_accuracy: 0.7414 - val_precision: 0.7842 - val_recall: 0.6663\n",
            "Epoch 5/10\n",
            "154/154 [==============================] - 43s 278ms/step - loss: 0.5532 - accuracy: 0.7279 - precision: 0.7379 - recall: 0.7069 - val_loss: 0.5392 - val_accuracy: 0.7506 - val_precision: 0.7733 - val_recall: 0.7090\n",
            "Epoch 6/10\n",
            "154/154 [==============================] - 43s 278ms/step - loss: 0.5474 - accuracy: 0.7338 - precision: 0.7469 - recall: 0.7073 - val_loss: 0.5327 - val_accuracy: 0.7543 - val_precision: 0.7680 - val_recall: 0.7286\n",
            "Epoch 7/10\n",
            "154/154 [==============================] - 43s 278ms/step - loss: 0.5430 - accuracy: 0.7377 - precision: 0.7511 - recall: 0.7110 - val_loss: 0.5383 - val_accuracy: 0.7378 - val_precision: 0.7149 - val_recall: 0.7910\n",
            "Epoch 8/10\n",
            "154/154 [==============================] - 43s 278ms/step - loss: 0.5387 - accuracy: 0.7371 - precision: 0.7476 - recall: 0.7159 - val_loss: 0.5266 - val_accuracy: 0.7561 - val_precision: 0.7914 - val_recall: 0.6956\n",
            "Epoch 9/10\n",
            "154/154 [==============================] - 43s 278ms/step - loss: 0.5331 - accuracy: 0.7446 - precision: 0.7577 - recall: 0.7191 - val_loss: 0.5227 - val_accuracy: 0.7537 - val_precision: 0.7479 - val_recall: 0.7653\n",
            "Epoch 10/10\n",
            "154/154 [==============================] - 43s 278ms/step - loss: 0.5329 - accuracy: 0.7371 - precision: 0.7453 - recall: 0.7203 - val_loss: 0.5254 - val_accuracy: 0.7488 - val_precision: 0.7320 - val_recall: 0.7848\n"
          ]
        }
      ]
    },
    {
      "cell_type": "code",
      "source": [
        "plt.plot(history_bert.history['accuracy'], label='train_accuracy')\n",
        "plt.plot(history_bert.history['val_accuracy'], label='val_accuracy')\n",
        "plt.legend()\n",
        "plt.show()"
      ],
      "metadata": {
        "colab": {
          "base_uri": "https://localhost:8080/",
          "height": 265
        },
        "id": "X6zZEV-tUSCh",
        "outputId": "34019126-c46e-4558-f636-168f08195d11"
      },
      "execution_count": null,
      "outputs": [
        {
          "output_type": "display_data",
          "data": {
            "text/plain": [
              "<Figure size 432x288 with 1 Axes>"
            ],
            "image/png": "[encoded data removed]"
          },
          "metadata": {
            "needs_background": "light"
          }
        }
      ]
    }
  ]
}